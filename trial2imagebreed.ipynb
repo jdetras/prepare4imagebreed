{
  "cells": [
    {
      "cell_type": "markdown",
      "metadata": {
        "id": "view-in-github",
        "colab_type": "text"
      },
      "source": [
        "<a href=\"https://colab.research.google.com/github/jdetras/prepare4imagebreed/blob/development/trial2imagebreed.ipynb\" target=\"_parent\"><img src=\"https://colab.research.google.com/assets/colab-badge.svg\" alt=\"Open In Colab\"/></a>"
      ]
    },
    {
      "cell_type": "code",
      "execution_count": 1,
      "metadata": {
        "id": "Anb-RReG6Gx_"
      },
      "outputs": [],
      "source": [
        "#Converts a plot list to a Breedbase multiple trial design format    "
      ]
    },
    {
      "cell_type": "code",
      "execution_count": 2,
      "metadata": {
        "id": "PS50LyWG6GyA",
        "colab": {
          "base_uri": "https://localhost:8080/"
        },
        "outputId": "85f6ed98-416b-4dfa-a510-f677924122d6"
      },
      "outputs": [
        {
          "output_type": "stream",
          "name": "stdout",
          "text": [
            "Mounted at /content/gdrive/\n"
          ]
        }
      ],
      "source": [
        "import pandas as pd\n",
        "import numpy as np\n",
        "import xlrd\n",
        "import xlwt\n",
        "import yaml\n",
        "import pprint\n",
        "\n",
        "from google.colab import drive\n",
        "from google.colab import files\n",
        "from yaml.loader import SafeLoader\n",
        "\n",
        "drive.mount('/content/gdrive/', force_remount=True)"
      ]
    },
    {
      "cell_type": "code",
      "source": [
        "def main():\n",
        "    with open('/content/prepare_trial.yaml') as f:\n",
        "        config = yaml.safe_load(f)\n",
        "    return config\n",
        "read_yaml = main()\n",
        "pprint.pprint(read_yaml)"
      ],
      "metadata": {
        "id": "z6uho7iX-2Lf",
        "colab": {
          "base_uri": "https://localhost:8080/"
        },
        "outputId": "92e0785c-9ffb-4ef5-8432-e1da198ad8f1"
      },
      "execution_count": 3,
      "outputs": [
        {
          "output_type": "stream",
          "name": "stdout",
          "text": [
            "{'breeding_program': 'Global Rice Array',\n",
            " 'company': 'International Rice Research Institute',\n",
            " 'description': 'Drone data collection for 2018 WS',\n",
            " 'design_type': 'p-rep',\n",
            " 'is_control': 'IRRI154',\n",
            " 'location': 'IRRI HQ',\n",
            " 'planting_date': '2018-06-01',\n",
            " 'trial_name': '2018 WS',\n",
            " 'trial_type': 'phenotyping_trial',\n",
            " 'year': '2018'}\n"
          ]
        }
      ]
    },
    {
      "cell_type": "code",
      "execution_count": 4,
      "metadata": {
        "id": "ftL-mL-w6GyA"
      },
      "outputs": [],
      "source": [
        "#infile xlsx file format while outfile should be .xls file format\n",
        "infile = '/content/WS2018ReferencePanelPlotList.xlsx'\n",
        "outfile = '/content/WS2018_Ref_Trial.xls'"
      ]
    },
    {
      "cell_type": "code",
      "execution_count": 5,
      "metadata": {
        "id": "IKvCDlNS6GyB"
      },
      "outputs": [],
      "source": [
        "#read input file to data\n",
        "data = pd.read_excel(infile)"
      ]
    },
    {
      "cell_type": "code",
      "execution_count": 6,
      "metadata": {
        "id": "NL8KQK346GyB"
      },
      "outputs": [],
      "source": [
        "#breedbase column headers\n",
        "#trial_name\tcompany\tbreeding_program\tlocation\tyear\tdesign_type\tdescription\ttrial_type\tplot_width\tplot_length\tfield_size\tplanting_date\tharvest_date\tplot_name\taccession_name\tplot_number\tblock_number\tis_a_control\trep_number\trange_number\trow_number\tcol_number\tseedlot_name\tnum_seed_per_plot\tweight_gram_seed_per_plot\n",
        "header_list = ['trial_name', 'company', 'breeding_program', 'location', 'year', 'design_type', 'description', 'trial_type', 'plot_width', 'plot_length','field_size', 'planting_date', 'harvest_date', 'plot_name', 'accession_name', 'plot_number', 'block_number', 'is_a_control', 'rep_number', 'range_number', 'row_number', 'col_number', 'seedlot_name', 'num_seed_per_plot', 'weight_gram_seed_per_plot']"
      ]
    },
    {
      "cell_type": "code",
      "execution_count": 7,
      "metadata": {
        "id": "43Qa_GHT6GyB"
      },
      "outputs": [],
      "source": [
        "#formatting\n",
        "data.dropna(how='all', axis='columns', inplace=True)\n",
        "data.drop(columns=['ENTNO', 'ENTRY CODE', 'GID', 'SOURCE STUDY', 'SOURCE ENTRY', 'SOURCE PLOT'], inplace=True)\n",
        "data.rename({'PLOTNO': 'plot_number', 'PLOT CODE': 'plot_name', 'REP': 'rep_number', 'ROW': 'row_number', 'COL': 'col_number', 'DESIGNATION': 'accession_name'}, axis='columns', inplace=True)\n",
        "data = data.reindex(columns=header_list)"
      ]
    },
    {
      "cell_type": "code",
      "execution_count": 8,
      "metadata": {
        "id": "GyBxwdnX6GyB"
      },
      "outputs": [],
      "source": [
        "#block_number default\n",
        "data['block_number']=1"
      ]
    },
    {
      "cell_type": "code",
      "source": [
        "data['trial_name'] = (read_yaml['trial_name'])\n",
        "data['company'] = (read_yaml['company'])\n",
        "data['breeding_program'] =  (read_yaml['breeding_program'])\n",
        "data['location'] =  (read_yaml['location'])\n",
        "data['year'] =  (read_yaml['year'])\n",
        "data['design_type'] =  (read_yaml['design_type'])\n",
        "data['description'] =  (read_yaml['description'])\n",
        "data['trial_type'] =  (read_yaml['trial_type'])\n",
        "data['planting_date'] =  (read_yaml['planting_date'])"
      ],
      "metadata": {
        "id": "HSgQSXVj_okT"
      },
      "execution_count": 9,
      "outputs": []
    },
    {
      "cell_type": "code",
      "source": [
        "data.head()"
      ],
      "metadata": {
        "id": "e-WQxFJO_apq",
        "colab": {
          "base_uri": "https://localhost:8080/",
          "height": 560
        },
        "outputId": "d5e7a571-884a-4ddb-ce4b-3c9e5388bcc9"
      },
      "execution_count": 10,
      "outputs": [
        {
          "output_type": "execute_result",
          "data": {
            "text/plain": [
              "  trial_name                                company   breeding_program  \\\n",
              "0    2018 WS  International Rice Research Institute  Global Rice Array   \n",
              "1    2018 WS  International Rice Research Institute  Global Rice Array   \n",
              "2    2018 WS  International Rice Research Institute  Global Rice Array   \n",
              "3    2018 WS  International Rice Research Institute  Global Rice Array   \n",
              "4    2018 WS  International Rice Research Institute  Global Rice Array   \n",
              "\n",
              "  location  year design_type                        description  \\\n",
              "0  IRRI HQ  2018       p-rep  Drone data collection for 2018 WS   \n",
              "1  IRRI HQ  2018       p-rep  Drone data collection for 2018 WS   \n",
              "2  IRRI HQ  2018       p-rep  Drone data collection for 2018 WS   \n",
              "3  IRRI HQ  2018       p-rep  Drone data collection for 2018 WS   \n",
              "4  IRRI HQ  2018       p-rep  Drone data collection for 2018 WS   \n",
              "\n",
              "          trial_type  plot_width  plot_length  ...  plot_number block_number  \\\n",
              "0  phenotyping_trial         NaN          NaN  ...            1            1   \n",
              "1  phenotyping_trial         NaN          NaN  ...            2            1   \n",
              "2  phenotyping_trial         NaN          NaN  ...            3            1   \n",
              "3  phenotyping_trial         NaN          NaN  ...            4            1   \n",
              "4  phenotyping_trial         NaN          NaN  ...            5            1   \n",
              "\n",
              "   is_a_control rep_number range_number  row_number  col_number  seedlot_name  \\\n",
              "0           NaN          1          NaN           1           1           NaN   \n",
              "1           NaN          1          NaN           1           2           NaN   \n",
              "2           NaN          1          NaN           1           3           NaN   \n",
              "3           NaN          1          NaN           1           4           NaN   \n",
              "4           NaN          1          NaN           1           5           NaN   \n",
              "\n",
              "   num_seed_per_plot  weight_gram_seed_per_plot  \n",
              "0                NaN                        NaN  \n",
              "1                NaN                        NaN  \n",
              "2                NaN                        NaN  \n",
              "3                NaN                        NaN  \n",
              "4                NaN                        NaN  \n",
              "\n",
              "[5 rows x 25 columns]"
            ],
            "text/html": [
              "\n",
              "  <div id=\"df-c007a348-151b-4e19-a516-4bba36728592\">\n",
              "    <div class=\"colab-df-container\">\n",
              "      <div>\n",
              "<style scoped>\n",
              "    .dataframe tbody tr th:only-of-type {\n",
              "        vertical-align: middle;\n",
              "    }\n",
              "\n",
              "    .dataframe tbody tr th {\n",
              "        vertical-align: top;\n",
              "    }\n",
              "\n",
              "    .dataframe thead th {\n",
              "        text-align: right;\n",
              "    }\n",
              "</style>\n",
              "<table border=\"1\" class=\"dataframe\">\n",
              "  <thead>\n",
              "    <tr style=\"text-align: right;\">\n",
              "      <th></th>\n",
              "      <th>trial_name</th>\n",
              "      <th>company</th>\n",
              "      <th>breeding_program</th>\n",
              "      <th>location</th>\n",
              "      <th>year</th>\n",
              "      <th>design_type</th>\n",
              "      <th>description</th>\n",
              "      <th>trial_type</th>\n",
              "      <th>plot_width</th>\n",
              "      <th>plot_length</th>\n",
              "      <th>...</th>\n",
              "      <th>plot_number</th>\n",
              "      <th>block_number</th>\n",
              "      <th>is_a_control</th>\n",
              "      <th>rep_number</th>\n",
              "      <th>range_number</th>\n",
              "      <th>row_number</th>\n",
              "      <th>col_number</th>\n",
              "      <th>seedlot_name</th>\n",
              "      <th>num_seed_per_plot</th>\n",
              "      <th>weight_gram_seed_per_plot</th>\n",
              "    </tr>\n",
              "  </thead>\n",
              "  <tbody>\n",
              "    <tr>\n",
              "      <th>0</th>\n",
              "      <td>2018 WS</td>\n",
              "      <td>International Rice Research Institute</td>\n",
              "      <td>Global Rice Array</td>\n",
              "      <td>IRRI HQ</td>\n",
              "      <td>2018</td>\n",
              "      <td>p-rep</td>\n",
              "      <td>Drone data collection for 2018 WS</td>\n",
              "      <td>phenotyping_trial</td>\n",
              "      <td>NaN</td>\n",
              "      <td>NaN</td>\n",
              "      <td>...</td>\n",
              "      <td>1</td>\n",
              "      <td>1</td>\n",
              "      <td>NaN</td>\n",
              "      <td>1</td>\n",
              "      <td>NaN</td>\n",
              "      <td>1</td>\n",
              "      <td>1</td>\n",
              "      <td>NaN</td>\n",
              "      <td>NaN</td>\n",
              "      <td>NaN</td>\n",
              "    </tr>\n",
              "    <tr>\n",
              "      <th>1</th>\n",
              "      <td>2018 WS</td>\n",
              "      <td>International Rice Research Institute</td>\n",
              "      <td>Global Rice Array</td>\n",
              "      <td>IRRI HQ</td>\n",
              "      <td>2018</td>\n",
              "      <td>p-rep</td>\n",
              "      <td>Drone data collection for 2018 WS</td>\n",
              "      <td>phenotyping_trial</td>\n",
              "      <td>NaN</td>\n",
              "      <td>NaN</td>\n",
              "      <td>...</td>\n",
              "      <td>2</td>\n",
              "      <td>1</td>\n",
              "      <td>NaN</td>\n",
              "      <td>1</td>\n",
              "      <td>NaN</td>\n",
              "      <td>1</td>\n",
              "      <td>2</td>\n",
              "      <td>NaN</td>\n",
              "      <td>NaN</td>\n",
              "      <td>NaN</td>\n",
              "    </tr>\n",
              "    <tr>\n",
              "      <th>2</th>\n",
              "      <td>2018 WS</td>\n",
              "      <td>International Rice Research Institute</td>\n",
              "      <td>Global Rice Array</td>\n",
              "      <td>IRRI HQ</td>\n",
              "      <td>2018</td>\n",
              "      <td>p-rep</td>\n",
              "      <td>Drone data collection for 2018 WS</td>\n",
              "      <td>phenotyping_trial</td>\n",
              "      <td>NaN</td>\n",
              "      <td>NaN</td>\n",
              "      <td>...</td>\n",
              "      <td>3</td>\n",
              "      <td>1</td>\n",
              "      <td>NaN</td>\n",
              "      <td>1</td>\n",
              "      <td>NaN</td>\n",
              "      <td>1</td>\n",
              "      <td>3</td>\n",
              "      <td>NaN</td>\n",
              "      <td>NaN</td>\n",
              "      <td>NaN</td>\n",
              "    </tr>\n",
              "    <tr>\n",
              "      <th>3</th>\n",
              "      <td>2018 WS</td>\n",
              "      <td>International Rice Research Institute</td>\n",
              "      <td>Global Rice Array</td>\n",
              "      <td>IRRI HQ</td>\n",
              "      <td>2018</td>\n",
              "      <td>p-rep</td>\n",
              "      <td>Drone data collection for 2018 WS</td>\n",
              "      <td>phenotyping_trial</td>\n",
              "      <td>NaN</td>\n",
              "      <td>NaN</td>\n",
              "      <td>...</td>\n",
              "      <td>4</td>\n",
              "      <td>1</td>\n",
              "      <td>NaN</td>\n",
              "      <td>1</td>\n",
              "      <td>NaN</td>\n",
              "      <td>1</td>\n",
              "      <td>4</td>\n",
              "      <td>NaN</td>\n",
              "      <td>NaN</td>\n",
              "      <td>NaN</td>\n",
              "    </tr>\n",
              "    <tr>\n",
              "      <th>4</th>\n",
              "      <td>2018 WS</td>\n",
              "      <td>International Rice Research Institute</td>\n",
              "      <td>Global Rice Array</td>\n",
              "      <td>IRRI HQ</td>\n",
              "      <td>2018</td>\n",
              "      <td>p-rep</td>\n",
              "      <td>Drone data collection for 2018 WS</td>\n",
              "      <td>phenotyping_trial</td>\n",
              "      <td>NaN</td>\n",
              "      <td>NaN</td>\n",
              "      <td>...</td>\n",
              "      <td>5</td>\n",
              "      <td>1</td>\n",
              "      <td>NaN</td>\n",
              "      <td>1</td>\n",
              "      <td>NaN</td>\n",
              "      <td>1</td>\n",
              "      <td>5</td>\n",
              "      <td>NaN</td>\n",
              "      <td>NaN</td>\n",
              "      <td>NaN</td>\n",
              "    </tr>\n",
              "  </tbody>\n",
              "</table>\n",
              "<p>5 rows × 25 columns</p>\n",
              "</div>\n",
              "      <button class=\"colab-df-convert\" onclick=\"convertToInteractive('df-c007a348-151b-4e19-a516-4bba36728592')\"\n",
              "              title=\"Convert this dataframe to an interactive table.\"\n",
              "              style=\"display:none;\">\n",
              "        \n",
              "  <svg xmlns=\"http://www.w3.org/2000/svg\" height=\"24px\"viewBox=\"0 0 24 24\"\n",
              "       width=\"24px\">\n",
              "    <path d=\"M0 0h24v24H0V0z\" fill=\"none\"/>\n",
              "    <path d=\"M18.56 5.44l.94 2.06.94-2.06 2.06-.94-2.06-.94-.94-2.06-.94 2.06-2.06.94zm-11 1L8.5 8.5l.94-2.06 2.06-.94-2.06-.94L8.5 2.5l-.94 2.06-2.06.94zm10 10l.94 2.06.94-2.06 2.06-.94-2.06-.94-.94-2.06-.94 2.06-2.06.94z\"/><path d=\"M17.41 7.96l-1.37-1.37c-.4-.4-.92-.59-1.43-.59-.52 0-1.04.2-1.43.59L10.3 9.45l-7.72 7.72c-.78.78-.78 2.05 0 2.83L4 21.41c.39.39.9.59 1.41.59.51 0 1.02-.2 1.41-.59l7.78-7.78 2.81-2.81c.8-.78.8-2.07 0-2.86zM5.41 20L4 18.59l7.72-7.72 1.47 1.35L5.41 20z\"/>\n",
              "  </svg>\n",
              "      </button>\n",
              "      \n",
              "  <style>\n",
              "    .colab-df-container {\n",
              "      display:flex;\n",
              "      flex-wrap:wrap;\n",
              "      gap: 12px;\n",
              "    }\n",
              "\n",
              "    .colab-df-convert {\n",
              "      background-color: #E8F0FE;\n",
              "      border: none;\n",
              "      border-radius: 50%;\n",
              "      cursor: pointer;\n",
              "      display: none;\n",
              "      fill: #1967D2;\n",
              "      height: 32px;\n",
              "      padding: 0 0 0 0;\n",
              "      width: 32px;\n",
              "    }\n",
              "\n",
              "    .colab-df-convert:hover {\n",
              "      background-color: #E2EBFA;\n",
              "      box-shadow: 0px 1px 2px rgba(60, 64, 67, 0.3), 0px 1px 3px 1px rgba(60, 64, 67, 0.15);\n",
              "      fill: #174EA6;\n",
              "    }\n",
              "\n",
              "    [theme=dark] .colab-df-convert {\n",
              "      background-color: #3B4455;\n",
              "      fill: #D2E3FC;\n",
              "    }\n",
              "\n",
              "    [theme=dark] .colab-df-convert:hover {\n",
              "      background-color: #434B5C;\n",
              "      box-shadow: 0px 1px 3px 1px rgba(0, 0, 0, 0.15);\n",
              "      filter: drop-shadow(0px 1px 2px rgba(0, 0, 0, 0.3));\n",
              "      fill: #FFFFFF;\n",
              "    }\n",
              "  </style>\n",
              "\n",
              "      <script>\n",
              "        const buttonEl =\n",
              "          document.querySelector('#df-c007a348-151b-4e19-a516-4bba36728592 button.colab-df-convert');\n",
              "        buttonEl.style.display =\n",
              "          google.colab.kernel.accessAllowed ? 'block' : 'none';\n",
              "\n",
              "        async function convertToInteractive(key) {\n",
              "          const element = document.querySelector('#df-c007a348-151b-4e19-a516-4bba36728592');\n",
              "          const dataTable =\n",
              "            await google.colab.kernel.invokeFunction('convertToInteractive',\n",
              "                                                     [key], {});\n",
              "          if (!dataTable) return;\n",
              "\n",
              "          const docLinkHtml = 'Like what you see? Visit the ' +\n",
              "            '<a target=\"_blank\" href=https://colab.research.google.com/notebooks/data_table.ipynb>data table notebook</a>'\n",
              "            + ' to learn more about interactive tables.';\n",
              "          element.innerHTML = '';\n",
              "          dataTable['output_type'] = 'display_data';\n",
              "          await google.colab.output.renderOutput(dataTable, element);\n",
              "          const docLink = document.createElement('div');\n",
              "          docLink.innerHTML = docLinkHtml;\n",
              "          element.appendChild(docLink);\n",
              "        }\n",
              "      </script>\n",
              "    </div>\n",
              "  </div>\n",
              "  "
            ]
          },
          "metadata": {},
          "execution_count": 10
        }
      ]
    },
    {
      "cell_type": "code",
      "execution_count": 11,
      "metadata": {
        "id": "hhoAdYgJ6GyC",
        "colab": {
          "base_uri": "https://localhost:8080/",
          "height": 72
        },
        "outputId": "b8f3db5b-a919-4318-febc-2df2f91630cd"
      },
      "outputs": [
        {
          "output_type": "stream",
          "name": "stderr",
          "text": [
            "/usr/local/lib/python3.7/dist-packages/IPython/core/interactiveshell.py:3249: FutureWarning: As the xlwt package is no longer maintained, the xlwt engine will be removed in a future version of pandas. This is the only engine in pandas that supports writing in the xls format. Install openpyxl and write to an xlsx file instead. You can set the option io.excel.xls.writer to 'xlwt' to silence this warning. While this option is deprecated and will also raise a warning, it can be globally set and the warning suppressed.\n",
            "  if (await self.run_code(code, result,  async_=asy)):\n"
          ]
        },
        {
          "output_type": "display_data",
          "data": {
            "text/plain": [
              "<IPython.core.display.Javascript object>"
            ],
            "application/javascript": [
              "\n",
              "    async function download(id, filename, size) {\n",
              "      if (!google.colab.kernel.accessAllowed) {\n",
              "        return;\n",
              "      }\n",
              "      const div = document.createElement('div');\n",
              "      const label = document.createElement('label');\n",
              "      label.textContent = `Downloading \"${filename}\": `;\n",
              "      div.appendChild(label);\n",
              "      const progress = document.createElement('progress');\n",
              "      progress.max = size;\n",
              "      div.appendChild(progress);\n",
              "      document.body.appendChild(div);\n",
              "\n",
              "      const buffers = [];\n",
              "      let downloaded = 0;\n",
              "\n",
              "      const channel = await google.colab.kernel.comms.open(id);\n",
              "      // Send a message to notify the kernel that we're ready.\n",
              "      channel.send({})\n",
              "\n",
              "      for await (const message of channel.messages) {\n",
              "        // Send a message to notify the kernel that we're ready.\n",
              "        channel.send({})\n",
              "        if (message.buffers) {\n",
              "          for (const buffer of message.buffers) {\n",
              "            buffers.push(buffer);\n",
              "            downloaded += buffer.byteLength;\n",
              "            progress.value = downloaded;\n",
              "          }\n",
              "        }\n",
              "      }\n",
              "      const blob = new Blob(buffers, {type: 'application/binary'});\n",
              "      const a = document.createElement('a');\n",
              "      a.href = window.URL.createObjectURL(blob);\n",
              "      a.download = filename;\n",
              "      div.appendChild(a);\n",
              "      a.click();\n",
              "      div.remove();\n",
              "    }\n",
              "  "
            ]
          },
          "metadata": {}
        },
        {
          "output_type": "display_data",
          "data": {
            "text/plain": [
              "<IPython.core.display.Javascript object>"
            ],
            "application/javascript": [
              "download(\"download_308c46f4-bdd9-4271-9847-6fdae8bd1c0c\", \"WS2018_Ref_Trial.xls\", 145920)"
            ]
          },
          "metadata": {}
        }
      ],
      "source": [
        "#write to .xls file\n",
        "with pd.ExcelWriter(outfile) as writer:\n",
        "    data.to_excel(writer, index=False)\n",
        "files.download(outfile)"
      ]
    }
  ],
  "metadata": {
    "kernelspec": {
      "display_name": "Python 3 (ipykernel)",
      "language": "python",
      "name": "python3"
    },
    "language_info": {
      "codemirror_mode": {
        "name": "ipython",
        "version": 3
      },
      "file_extension": ".py",
      "mimetype": "text/x-python",
      "name": "python",
      "nbconvert_exporter": "python",
      "pygments_lexer": "ipython3",
      "version": "3.9.10"
    },
    "colab": {
      "provenance": [],
      "collapsed_sections": [],
      "include_colab_link": true
    }
  },
  "nbformat": 4,
  "nbformat_minor": 0
}