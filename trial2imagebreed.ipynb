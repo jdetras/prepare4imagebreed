{
  "cells": [
    {
      "cell_type": "markdown",
      "metadata": {
        "id": "view-in-github",
        "colab_type": "text"
      },
      "source": [
        "<a href=\"https://colab.research.google.com/github/jdetras/prepare4imagebreed/blob/development/trial2imagebreed.ipynb\" target=\"_parent\"><img src=\"https://colab.research.google.com/assets/colab-badge.svg\" alt=\"Open In Colab\"/></a>"
      ]
    },
    {
      "cell_type": "markdown",
      "source": [
        "Converts a plot list to a Breedbase multiple trial design format "
      ],
      "metadata": {
        "id": "sTBPtvMApibP"
      }
    },
    {
      "cell_type": "code",
      "execution_count": null,
      "metadata": {
        "id": "PS50LyWG6GyA"
      },
      "outputs": [],
      "source": [
        "import pandas as pd\n",
        "import numpy as np\n",
        "import xlrd\n",
        "import xlwt\n",
        "import yaml\n",
        "import pprint\n",
        "\n",
        "from google.colab import drive\n",
        "from google.colab import files\n",
        "from yaml.loader import SafeLoader\n",
        "\n",
        "drive.mount('/content/gdrive/', force_remount=True)"
      ]
    },
    {
      "cell_type": "code",
      "source": [
        "def main():\n",
        "    with open('/content/prepare_trial.yaml') as f:\n",
        "        config = yaml.safe_load(f)\n",
        "    return config\n",
        "read_yaml = main()\n",
        "pprint.pprint(read_yaml)"
      ],
      "metadata": {
        "id": "z6uho7iX-2Lf"
      },
      "execution_count": null,
      "outputs": []
    },
    {
      "cell_type": "code",
      "execution_count": 3,
      "metadata": {
        "id": "ftL-mL-w6GyA"
      },
      "outputs": [],
      "source": [
        "#infile xlsx file format while outfile should be .xls file format\n",
        "infile = '/content/WS2018ReferencePanelPlotList.xlsx'\n",
        "outfile = '/content/WS2018_Ref_Trial.xls'"
      ]
    },
    {
      "cell_type": "code",
      "execution_count": 4,
      "metadata": {
        "id": "IKvCDlNS6GyB"
      },
      "outputs": [],
      "source": [
        "#read input file to data\n",
        "data = pd.read_excel(infile)"
      ]
    },
    {
      "cell_type": "code",
      "execution_count": 5,
      "metadata": {
        "id": "NL8KQK346GyB"
      },
      "outputs": [],
      "source": [
        "#breedbase column headers\n",
        "#trial_name\tcompany\tbreeding_program\tlocation\tyear\tdesign_type\tdescription\ttrial_type\tplot_width\tplot_length\tfield_size\tplanting_date\tharvest_date\tplot_name\taccession_name\tplot_number\tblock_number\tis_a_control\trep_number\trange_number\trow_number\tcol_number\tseedlot_name\tnum_seed_per_plot\tweight_gram_seed_per_plot\n",
        "header_list = ['trial_name', 'company', 'breeding_program', 'location', 'year', 'design_type', 'description', 'trial_type', 'plot_width', 'plot_length','field_size', 'planting_date', 'harvest_date', 'plot_name', 'accession_name', 'plot_number', 'block_number', 'is_a_control', 'rep_number', 'range_number', 'row_number', 'col_number', 'seedlot_name', 'num_seed_per_plot', 'weight_gram_seed_per_plot']"
      ]
    },
    {
      "cell_type": "code",
      "execution_count": 6,
      "metadata": {
        "id": "43Qa_GHT6GyB"
      },
      "outputs": [],
      "source": [
        "#formatting\n",
        "data.dropna(how='all', axis='columns', inplace=True)\n",
        "data.drop(columns=['ENTNO', 'ENTRY CODE', 'GID', 'SOURCE STUDY', 'SOURCE ENTRY', 'SOURCE PLOT'], inplace=True)\n",
        "data.rename({'PLOTNO': 'plot_number', 'PLOT CODE': 'plot_name', 'REP': 'rep_number', 'ROW': 'row_number', 'COL': 'col_number', 'DESIGNATION': 'accession_name'}, axis='columns', inplace=True)\n",
        "data = data.reindex(columns=header_list)"
      ]
    },
    {
      "cell_type": "code",
      "execution_count": 7,
      "metadata": {
        "id": "GyBxwdnX6GyB"
      },
      "outputs": [],
      "source": [
        "#block_number default\n",
        "data['block_number']=1"
      ]
    },
    {
      "cell_type": "code",
      "source": [
        "data['trial_name'] = (read_yaml['trial_name'])\n",
        "data['company'] = (read_yaml['company'])\n",
        "data['breeding_program'] =  (read_yaml['breeding_program'])\n",
        "data['location'] =  (read_yaml['location'])\n",
        "data['year'] =  (read_yaml['year'])\n",
        "data['design_type'] =  (read_yaml['design_type'])\n",
        "data['description'] =  (read_yaml['description'])\n",
        "data['trial_type'] =  (read_yaml['trial_type'])\n",
        "data['planting_date'] =  (read_yaml['planting_date'])"
      ],
      "metadata": {
        "id": "HSgQSXVj_okT"
      },
      "execution_count": 8,
      "outputs": []
    },
    {
      "cell_type": "code",
      "source": [
        "data.head()"
      ],
      "metadata": {
        "id": "e-WQxFJO_apq"
      },
      "execution_count": null,
      "outputs": []
    },
    {
      "cell_type": "code",
      "execution_count": null,
      "metadata": {
        "id": "hhoAdYgJ6GyC"
      },
      "outputs": [],
      "source": [
        "#write to .xls file\n",
        "with pd.ExcelWriter(outfile) as writer:\n",
        "    data.to_excel(writer, index=False)\n",
        "files.download(outfile)"
      ]
    }
  ],
  "metadata": {
    "kernelspec": {
      "display_name": "Python 3 (ipykernel)",
      "language": "python",
      "name": "python3"
    },
    "language_info": {
      "codemirror_mode": {
        "name": "ipython",
        "version": 3
      },
      "file_extension": ".py",
      "mimetype": "text/x-python",
      "name": "python",
      "nbconvert_exporter": "python",
      "pygments_lexer": "ipython3",
      "version": "3.9.10"
    },
    "colab": {
      "provenance": [],
      "collapsed_sections": [],
      "include_colab_link": true
    }
  },
  "nbformat": 4,
  "nbformat_minor": 0
}