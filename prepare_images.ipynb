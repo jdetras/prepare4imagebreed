{
  "nbformat": 4,
  "nbformat_minor": 0,
  "metadata": {
    "colab": {
      "provenance": [],
      "collapsed_sections": [],
      "authorship_tag": "ABX9TyOl574xX8XrO/BykZelCCqU",
      "include_colab_link": true
    },
    "kernelspec": {
      "name": "python3",
      "display_name": "Python 3"
    },
    "language_info": {
      "name": "python"
    }
  },
  "cells": [
    {
      "cell_type": "markdown",
      "metadata": {
        "id": "view-in-github",
        "colab_type": "text"
      },
      "source": [
        "<a href=\"https://colab.research.google.com/github/jdetras/prepare4imagebreed/blob/main/prepare_images.ipynb\" target=\"_parent\"><img src=\"https://colab.research.google.com/assets/colab-badge.svg\" alt=\"Open In Colab\"/></a>"
      ]
    },
    {
      "cell_type": "markdown",
      "source": [
        "**Import functions and mount Google Drive**"
      ],
      "metadata": {
        "id": "3cVdjCa1ixMe"
      }
    },
    {
      "cell_type": "code",
      "execution_count": null,
      "metadata": {
        "id": "2KHahEJPdItm"
      },
      "outputs": [],
      "source": [
        "import glob\n",
        "import re \n",
        "import os\n",
        "import shutil\n",
        "import os.path\n",
        "import re\n",
        "import pandas as pd\n",
        "import zipfile\n",
        "import yaml\n",
        "import pprint\n",
        "\n",
        "from os import path\n",
        "from os.path import exists\n",
        "from google.colab import drive\n",
        "from google.colab import files\n",
        "from zipfile import ZipFile\n",
        "from yaml.loader import SafeLoader\n",
        "\n",
        "drive.mount('/content/gdrive/', force_remount=True)"
      ]
    },
    {
      "cell_type": "markdown",
      "source": [
        "**Import yaml file containing details of the trial**\n",
        "\n",
        "Upload a prepare_images.yaml file into Google Colab"
      ],
      "metadata": {
        "id": "E2WElX3ii7L6"
      }
    },
    {
      "cell_type": "code",
      "source": [
        "def main():\n",
        "    with open('/content/prepare_images.yaml') as f:\n",
        "        config = yaml.safe_load(f)\n",
        "    return config\n",
        "read_yaml = main()\n",
        "pprint.pprint(read_yaml)"
      ],
      "metadata": {
        "id": "Adpv2zp5ZUce"
      },
      "execution_count": null,
      "outputs": []
    },
    {
      "cell_type": "code",
      "source": [
        "#define variables and directories from yaml file\n",
        "\n",
        "#imaging event\n",
        "imaging_event = (read_yaml['imaging_event'])\n",
        "\n",
        "#directories\n",
        "input_path = (read_yaml['input_path']).rstrip('/')\n",
        "trial_path = (read_yaml['trial_path']).rstrip('/')\n",
        "output_path = (read_yaml['output_path']).rstrip('/')\n",
        "path = input_path + \"/\" + imaging_event + \"/\" + imaging_event #path for the input \n",
        "\n",
        "#excel file variable\n",
        "field_trial_name = (read_yaml['field_trial_name']) #must match field trial defined in Imagebreed\n",
        "geojson_filename = (read_yaml['geojson_filename']) #compressed geojson file\n",
        "geojson_file = (read_yaml['geojson_file']) #uncompressed geojson file\n",
        "date_time = (read_yaml['date_time']) #data format\n",
        "\n",
        "#tif files to copy\n",
        "dsm_path = (read_yaml['dsm_path'])\n",
        "reflectance_path = (read_yaml['reflectance_path'])\n",
        "\n",
        "#template directory. choose between re and rgb accordingly\n",
        "data = pd.read_csv((read_yaml['template_excel']))"
      ],
      "metadata": {
        "id": "iYTXR9J6ciEr"
      },
      "execution_count": 43,
      "outputs": []
    },
    {
      "cell_type": "code",
      "source": [
        "#Check directories\n",
        "print(sorted(os.listdir(input_path)))\n",
        "# Connect to that directory:\n",
        "os.chdir(input_path)"
      ],
      "metadata": {
        "id": "5DJh2lgVV3Wc"
      },
      "execution_count": null,
      "outputs": []
    },
    {
      "cell_type": "markdown",
      "source": [
        "**Get list of images (tif files)**"
      ],
      "metadata": {
        "id": "r7stHfabjJVa"
      }
    },
    {
      "cell_type": "code",
      "source": [
        "images = []\n",
        "dsm = [f for f in glob.glob(path + \"/\" + dsm_path, recursive=True)]\n",
        "reflectance = [f for f in glob.glob(path + \"/\" + reflectance_path, recursive=True)]\n",
        "\n",
        "for tif in dsm:\n",
        "    images.append(tif)\n",
        "\n",
        "for tif in reflectance:\n",
        "    images.append(tif)\n",
        "\n",
        "print(images)"
      ],
      "metadata": {
        "id": "tm69UdwPojwq"
      },
      "execution_count": null,
      "outputs": []
    },
    {
      "cell_type": "code",
      "source": [
        "#create directory for the imaging event\n",
        "output_path_imaging_event = output_path + \"/\" + imaging_event\n",
        "\n",
        "if os.path.exists(output_path_imaging_event) == False:\n",
        "    os.mkdir(output_path_imaging_event)"
      ],
      "metadata": {
        "id": "AICdMXgrd2HQ"
      },
      "execution_count": 19,
      "outputs": []
    },
    {
      "cell_type": "code",
      "source": [
        "#copy images from source to output destination\n",
        "for tif in images:\n",
        "    shutil.copy(tif, output_path_imaging_event)"
      ],
      "metadata": {
        "id": "YsEutfM5glxN"
      },
      "execution_count": 20,
      "outputs": []
    },
    {
      "cell_type": "code",
      "source": [
        "#regex pattern to for the image files\n",
        "rename_images = os.listdir(output_path_imaging_event)\n",
        "\n",
        "dsm_in = re.compile(r'[a-z0-9]_dsm.tif')\n",
        "rgb_in = re.compile(r'[a-z0-9]_group1.tif')\n",
        "blue_in = re.compile(r'[a-z0-9]_blue.tif')\n",
        "green_in = re.compile(r'[a-z0-9]_green.tif')\n",
        "nir_in = re.compile(r'[a-z0-9]_nir.tif')\n",
        "rededge_in = re.compile(r'[a-z0-9]_red edge.tif')\n",
        "red_in = re.compile(r'[a-z0-9]_red.tif')"
      ],
      "metadata": {
        "id": "YhUUMgkLvq8k"
      },
      "execution_count": 21,
      "outputs": []
    },
    {
      "cell_type": "code",
      "source": [
        "#modify the tif files to Imagebreed filename standards\n",
        "for file in rename_images:\n",
        "    if dsm_in.search(file):\n",
        "        dsm_out = file.replace(\"_dsm.tif\",\"_dsm__bw.tif\")\n",
        "        if exists(output_path_imaging_event + \"/\" + dsm_out):\n",
        "            print(dsm_out + \" exists\")\n",
        "        else:  \n",
        "            os.rename(output_path_imaging_event + \"/\" + file, \\\n",
        "            output_path_imaging_event + \"/\" + dsm_out)\n",
        "    elif rgb_in.search(file):\n",
        "        rgb_out = file.replace(\"group1.tif\",\"group1__rgb.tif\")\n",
        "        if exists(output_path_imaging_event + \"/\" + rgb_out):\n",
        "            print(rgb_out + \" exists\")\n",
        "        else:\n",
        "            os.rename(output_path_imaging_event + \"/\" + file, \\\n",
        "            output_path_imaging_event + \"/\" + rgb_out)\n",
        "    elif blue_in.search(file):\n",
        "        blue_out = file.replace(\"_blue.tif\",\"__blue.tif\")\n",
        "        if exists(output_path_imaging_event + \"/\" + blue_out):\n",
        "            print(blue_out + \" exists\")\n",
        "        else:\n",
        "            os.rename(output_path_imaging_event + \"/\" + file, \\\n",
        "            output_path_imaging_event + \"/\" + blue_out)\n",
        "    elif green_in.search(file):\n",
        "        green_out = file.replace(\"_green.tif\",\"__green.tif\")\n",
        "        if exists(output_path_imaging_event + \"/\" + green_out):\n",
        "            print(green_out + \" exists\")\n",
        "        else:\n",
        "            os.rename(output_path_imaging_event + \"/\" + file, \\\n",
        "            output_path_imaging_event + \"/\" + green_out)\n",
        "    elif nir_in.search(file):\n",
        "        nir_out = file.replace(\"_nir.tif\",\"__nir.tif\")\n",
        "        if exists(output_path_imaging_event + \"/\" + nir_out):\n",
        "            print(nir_out + \" exists\")\n",
        "        else:\n",
        "            os.rename(output_path_imaging_event + \"/\" + file, \\\n",
        "            output_path_imaging_event + \"/\" + nir_out)\n",
        "    elif rededge_in.search(file):\n",
        "        rededge_out = file.replace(\"_red edge.tif\",\"__rededge.tif\")\n",
        "        if exists(output_path_imaging_event + \"/\" + rededge_out):\n",
        "            print(rededge_out + \" exists\")\n",
        "        else:\n",
        "            os.rename(output_path_imaging_event + \"/\" + file, \\\n",
        "            output_path_imaging_event + \"/\" + rededge_out)\n",
        "    elif red_in.search(file):\n",
        "        red_out = file.replace(\"_red.tif\",\"__red.tif\")\n",
        "        if exists(output_path_imaging_event + \"/\" + red_out):\n",
        "            print(red_out + \" exists\")\n",
        "        else:\n",
        "            os.rename(output_path_imaging_event + \"/\" + file, \\\n",
        "            output_path_imaging_event + \"/\" + red_out)"
      ],
      "metadata": {
        "id": "FfLD4iQQjZAD"
      },
      "execution_count": 22,
      "outputs": []
    },
    {
      "cell_type": "code",
      "source": [
        "#create list of images for the imaging event excel file\n",
        "image_files = (sorted(f for f in os.listdir(output_path_imaging_event) \\\n",
        "                      if not f.startswith('.')))\n",
        "\n",
        "images = ''\n",
        "for f in image_files:\n",
        "  images = images + f + \",\"\n",
        "images = images.rstrip(images[-1])\n",
        "#print(images)"
      ],
      "metadata": {
        "id": "SoyQM9wwgSnt"
      },
      "execution_count": 23,
      "outputs": []
    },
    {
      "cell_type": "code",
      "source": [
        "os.chdir(output_path)\n",
        "# writing files to a zipfile\n",
        "with ZipFile(imaging_event + '.zip','w') as zip:\n",
        "    # writing each file one by one\n",
        "    for file in image_files:\n",
        "        os.chdir(output_path_imaging_event)\n",
        "        zip.write(file)"
      ],
      "metadata": {
        "id": "Zz7z8LkwyrVu"
      },
      "execution_count": 25,
      "outputs": []
    },
    {
      "cell_type": "markdown",
      "source": [
        "**Create an excel file for the imaging event requirement by Imagebreed**"
      ],
      "metadata": {
        "id": "vN39VzSDjs6q"
      }
    },
    {
      "cell_type": "code",
      "source": [
        "#add info for the excel file\n",
        "data.iloc[[0],[0]] = imaging_event\n",
        "data.iloc[[0],[3]] = 'Drone images for ' + imaging_event\n",
        "data.iloc[[0],[4]] = date_time\n",
        "data.iloc[[0],[8]] = field_trial_name\n",
        "data.iloc[[0],[9]] = geojson_filename\n",
        "data.iloc[[0],[10]] = images\n",
        "\n",
        "print(data)\n",
        "\n",
        "imaging_event_output = output_path + \"/\" + imaging_event + '_imagingevent.xls'\n",
        "data.to_excel(imaging_event_output,index=False)"
      ],
      "metadata": {
        "id": "3HNltD73x_DZ"
      },
      "execution_count": null,
      "outputs": []
    },
    {
      "cell_type": "markdown",
      "source": [
        "**Download Imagingevent excel file, orthophotomosaic zipped file and geojson file**\n",
        "\n",
        "The geojson file will be download only once per trial.\n",
        "If orthophotomosaic zip file fails to download due to disconnection of Google Colab, download directly from Google Drive. "
      ],
      "metadata": {
        "id": "AIwZSQUhkEYX"
      }
    },
    {
      "cell_type": "code",
      "source": [
        "files.download(imaging_event_output)\n",
        "files.download(output_path + \"/\" + imaging_event + \".zip\")\n"
      ],
      "metadata": {
        "id": "FnE0E3NT6RNc",
        "colab": {
          "base_uri": "https://localhost:8080/",
          "height": 17
        },
        "outputId": "e575259b-a35a-4568-db9b-b6a6274808ed"
      },
      "execution_count": 36,
      "outputs": [
        {
          "output_type": "display_data",
          "data": {
            "text/plain": [
              "<IPython.core.display.Javascript object>"
            ],
            "application/javascript": [
              "\n",
              "    async function download(id, filename, size) {\n",
              "      if (!google.colab.kernel.accessAllowed) {\n",
              "        return;\n",
              "      }\n",
              "      const div = document.createElement('div');\n",
              "      const label = document.createElement('label');\n",
              "      label.textContent = `Downloading \"${filename}\": `;\n",
              "      div.appendChild(label);\n",
              "      const progress = document.createElement('progress');\n",
              "      progress.max = size;\n",
              "      div.appendChild(progress);\n",
              "      document.body.appendChild(div);\n",
              "\n",
              "      const buffers = [];\n",
              "      let downloaded = 0;\n",
              "\n",
              "      const channel = await google.colab.kernel.comms.open(id);\n",
              "      // Send a message to notify the kernel that we're ready.\n",
              "      channel.send({})\n",
              "\n",
              "      for await (const message of channel.messages) {\n",
              "        // Send a message to notify the kernel that we're ready.\n",
              "        channel.send({})\n",
              "        if (message.buffers) {\n",
              "          for (const buffer of message.buffers) {\n",
              "            buffers.push(buffer);\n",
              "            downloaded += buffer.byteLength;\n",
              "            progress.value = downloaded;\n",
              "          }\n",
              "        }\n",
              "      }\n",
              "      const blob = new Blob(buffers, {type: 'application/binary'});\n",
              "      const a = document.createElement('a');\n",
              "      a.href = window.URL.createObjectURL(blob);\n",
              "      a.download = filename;\n",
              "      div.appendChild(a);\n",
              "      a.click();\n",
              "      div.remove();\n",
              "    }\n",
              "  "
            ]
          },
          "metadata": {}
        },
        {
          "output_type": "display_data",
          "data": {
            "text/plain": [
              "<IPython.core.display.Javascript object>"
            ],
            "application/javascript": [
              "download(\"download_4f48ab8b-5d1e-41df-9834-a8f43e1af7ba\", \"rek20180910.zip\", 954920364)"
            ]
          },
          "metadata": {}
        }
      ]
    },
    {
      "cell_type": "code",
      "source": [
        "#get geojson file and compress\n",
        "if os.path.exists(output_path + \"/\" + geojson_filename) == False:\n",
        "    shutil.copy(trial_path + \"/\" + geojson_file, output_path)\n",
        "    os.chdir(output_path)\n",
        "    with ZipFile(geojson_file + '.zip', 'w') as zip:\n",
        "        zip.write(geojson_file)\n",
        "    files.download(geojson_filename)\n",
        "else:\n",
        "    print('geojson_filename already exists')"
      ],
      "metadata": {
        "id": "0QrlMDzhJ24D"
      },
      "execution_count": null,
      "outputs": []
    },
    {
      "cell_type": "markdown",
      "source": [
        "**Delete temporary files**\n",
        "\n",
        "\n",
        "\n",
        "1.   Uncompressed geojson file\n",
        "2.   Uncompressed orthophotomosaic folder with images\n",
        "\n"
      ],
      "metadata": {
        "id": "WJBPOsi-kkAY"
      }
    },
    {
      "cell_type": "code",
      "source": [
        "#delete geojson \n",
        "if os.path.exists(output_path + \"/\" + geojson_file):\n",
        "    os.remove(output_path + \"/\" + geojson_file)\n",
        "    print(geojson_file + ' deleted')\n",
        "else:\n",
        "    print('geojson_file does not exists')"
      ],
      "metadata": {
        "id": "z6N_VrDROFRl"
      },
      "execution_count": null,
      "outputs": []
    },
    {
      "cell_type": "code",
      "source": [
        "#delete uncompressed imaging event directory\n",
        "if os.path.exists(output_path + \"/\" + imaging_event):\n",
        "    shutil.rmtree(output_path + \"/\" + imaging_event)\n",
        "    print(output_path + \"/\" + imaging_event + ' deleted')\n",
        "else:\n",
        "    print(output_path + \"/\" + imaging_event + ' does not exists')"
      ],
      "metadata": {
        "id": "-mZKJvkvP3zn"
      },
      "execution_count": null,
      "outputs": []
    }
  ]
}